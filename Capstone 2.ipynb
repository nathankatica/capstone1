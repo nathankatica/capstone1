{
 "cells": [
  {
   "cell_type": "markdown",
   "metadata": {},
   "source": [
    "# Our goal in this project is to assess the VIP acquisition rate. We will develop a profile for VIP members and market the product to Non-VIPs who resemble the profile.\n",
    "\n",
    "We'll start by finding these identifiers using exploratory data analysis (EDA)."
   ]
  },
  {
   "cell_type": "code",
   "execution_count": 15,
   "metadata": {
    "scrolled": false
   },
   "outputs": [
    {
     "name": "stdout",
     "output_type": "stream",
     "text": [
      "  gender genderLooking  age          name  counts_details  counts_pictures  \\\n",
      "0      F             M   25         daeni            1.00                4   \n",
      "1      F             M   22   italiana 92            0.85                5   \n",
      "2      F             M   21       Lauraaa            0.00                4   \n",
      "3      F          none   20    Qqkwmdowlo            0.12                3   \n",
      "4      F             M   21  schaessie {3            0.15               12   \n",
      "\n",
      "   counts_profileVisits  counts_kisses  counts_fans  counts_g  ...  \\\n",
      "0                  8279            239            0         3  ...   \n",
      "1                   663             13            0         0  ...   \n",
      "2                  1369             88            0         2  ...   \n",
      "3                 22187           1015            2         3  ...   \n",
      "4                 35262           1413            9        12  ...   \n",
      "\n",
      "   shareProfileEnabled        lastOnlineDate  lastOnlineTime birthd crypt  \\\n",
      "0                    1  2015-04-25T20:43:26Z    1.429995e+09      0   NaN   \n",
      "1                    1  2015-04-26T09:19:35Z    1.430040e+09      0   NaN   \n",
      "2                    1  2015-04-06T14:24:07Z    1.428330e+09      0   NaN   \n",
      "3                    1  2015-04-07T11:21:01Z    1.428406e+09      0   NaN   \n",
      "4                    1  2015-04-06T14:25:20Z    1.428330e+09      0   NaN   \n",
      "\n",
      "                                 freetext  \\\n",
      "0  Nur tote Fisch schwimmen mit dem Strom   \n",
      "1                                     NaN   \n",
      "2                                     NaN   \n",
      "3                                     NaN   \n",
      "4                                     NaN   \n",
      "\n",
      "                                    whazzup                    userId  \\\n",
      "0   Nur tote fische schwimmen mit dem strom  4e3842f79b70e7ea57000064   \n",
      "1                             Primaveraaa<3  4e3d34bf5d2bce7b160006a3   \n",
      "2                                       NaN  4ec96c090dc82cb25d00000a   \n",
      "3  Je pense donc je suis.  Instagram quedev  4eef8b81ebf2c8f64000000c   \n",
      "4                     Instagram: JESSSIESCH  4ef3cc5aa9d0b3d07d000017   \n",
      "\n",
      "                  pictureId  isSystemProfile  \n",
      "0  55303fc3160ba0eb728b4575              NaN  \n",
      "1  552e7b61c66da10d1e8b4c82              NaN  \n",
      "2  54a584ecc56da128638b4674              NaN  \n",
      "3  54c92738076ea1b5338b4735              NaN  \n",
      "4  54e1a6f6c76da135748b4a3a              NaN  \n",
      "\n",
      "[5 rows x 42 columns]\n"
     ]
    }
   ],
   "source": [
    "import pandas as pd\n",
    "\n",
    "df=pd.read_csv('lovoo_v3_users_api-results.csv')\n",
    "\n",
    "print(df.head())"
   ]
  },
  {
   "cell_type": "markdown",
   "metadata": {},
   "source": [
    "# Data Cleansing"
   ]
  },
  {
   "cell_type": "code",
   "execution_count": 16,
   "metadata": {},
   "outputs": [],
   "source": [
    "cleaned=df.drop(['counts_details','counts_g'],axis=1)\n",
    "cleaned['index1'] = df.index"
   ]
  },
  {
   "cell_type": "markdown",
   "metadata": {},
   "source": [
    "# What are the attributes of a VIP user? \n",
    "Descriptive Statistics\n"
   ]
  },
  {
   "cell_type": "code",
   "execution_count": 17,
   "metadata": {},
   "outputs": [
    {
     "data": {
      "text/html": [
       "<div>\n",
       "<style scoped>\n",
       "    .dataframe tbody tr th:only-of-type {\n",
       "        vertical-align: middle;\n",
       "    }\n",
       "\n",
       "    .dataframe tbody tr th {\n",
       "        vertical-align: top;\n",
       "    }\n",
       "\n",
       "    .dataframe thead th {\n",
       "        text-align: right;\n",
       "    }\n",
       "</style>\n",
       "<table border=\"1\" class=\"dataframe\">\n",
       "  <thead>\n",
       "    <tr style=\"text-align: right;\">\n",
       "      <th></th>\n",
       "      <th>age</th>\n",
       "      <th>counts_pictures</th>\n",
       "      <th>counts_profileVisits</th>\n",
       "      <th>counts_kisses</th>\n",
       "      <th>counts_fans</th>\n",
       "      <th>distance</th>\n",
       "      <th>isFlirtstar</th>\n",
       "      <th>isHighlighted</th>\n",
       "      <th>isInfluencer</th>\n",
       "      <th>isMobile</th>\n",
       "      <th>...</th>\n",
       "      <th>isOnline</th>\n",
       "      <th>isVip</th>\n",
       "      <th>lang_count</th>\n",
       "      <th>verified</th>\n",
       "      <th>shareProfileEnabled</th>\n",
       "      <th>lastOnlineTime</th>\n",
       "      <th>birthd</th>\n",
       "      <th>crypt</th>\n",
       "      <th>isSystemProfile</th>\n",
       "      <th>index1</th>\n",
       "    </tr>\n",
       "  </thead>\n",
       "  <tbody>\n",
       "    <tr>\n",
       "      <th>count</th>\n",
       "      <td>91.000000</td>\n",
       "      <td>91.000000</td>\n",
       "      <td>91.000000</td>\n",
       "      <td>91.000000</td>\n",
       "      <td>91.000000</td>\n",
       "      <td>91.000000</td>\n",
       "      <td>91.000000</td>\n",
       "      <td>91.000000</td>\n",
       "      <td>91.0</td>\n",
       "      <td>91.000000</td>\n",
       "      <td>...</td>\n",
       "      <td>91.000000</td>\n",
       "      <td>91.0</td>\n",
       "      <td>91.000000</td>\n",
       "      <td>91.000000</td>\n",
       "      <td>91.000000</td>\n",
       "      <td>9.100000e+01</td>\n",
       "      <td>91.0</td>\n",
       "      <td>0.0</td>\n",
       "      <td>0.0</td>\n",
       "      <td>91.000000</td>\n",
       "    </tr>\n",
       "    <tr>\n",
       "      <th>mean</th>\n",
       "      <td>21.593407</td>\n",
       "      <td>6.978022</td>\n",
       "      <td>4939.978022</td>\n",
       "      <td>220.879121</td>\n",
       "      <td>2.439560</td>\n",
       "      <td>172.730769</td>\n",
       "      <td>0.021978</td>\n",
       "      <td>0.021978</td>\n",
       "      <td>0.0</td>\n",
       "      <td>0.824176</td>\n",
       "      <td>...</td>\n",
       "      <td>0.450549</td>\n",
       "      <td>1.0</td>\n",
       "      <td>1.263736</td>\n",
       "      <td>0.384615</td>\n",
       "      <td>0.945055</td>\n",
       "      <td>1.429940e+09</td>\n",
       "      <td>0.0</td>\n",
       "      <td>NaN</td>\n",
       "      <td>NaN</td>\n",
       "      <td>1305.043956</td>\n",
       "    </tr>\n",
       "    <tr>\n",
       "      <th>std</th>\n",
       "      <td>2.102792</td>\n",
       "      <td>6.406556</td>\n",
       "      <td>7320.794080</td>\n",
       "      <td>520.092061</td>\n",
       "      <td>7.041478</td>\n",
       "      <td>512.295702</td>\n",
       "      <td>0.147424</td>\n",
       "      <td>0.147424</td>\n",
       "      <td>0.0</td>\n",
       "      <td>0.382780</td>\n",
       "      <td>...</td>\n",
       "      <td>0.500305</td>\n",
       "      <td>0.0</td>\n",
       "      <td>0.800488</td>\n",
       "      <td>0.489200</td>\n",
       "      <td>0.229135</td>\n",
       "      <td>4.734026e+05</td>\n",
       "      <td>0.0</td>\n",
       "      <td>NaN</td>\n",
       "      <td>NaN</td>\n",
       "      <td>879.109839</td>\n",
       "    </tr>\n",
       "    <tr>\n",
       "      <th>min</th>\n",
       "      <td>19.000000</td>\n",
       "      <td>0.000000</td>\n",
       "      <td>22.000000</td>\n",
       "      <td>0.000000</td>\n",
       "      <td>0.000000</td>\n",
       "      <td>0.000000</td>\n",
       "      <td>0.000000</td>\n",
       "      <td>0.000000</td>\n",
       "      <td>0.0</td>\n",
       "      <td>0.000000</td>\n",
       "      <td>...</td>\n",
       "      <td>0.000000</td>\n",
       "      <td>1.0</td>\n",
       "      <td>1.000000</td>\n",
       "      <td>0.000000</td>\n",
       "      <td>0.000000</td>\n",
       "      <td>1.428223e+09</td>\n",
       "      <td>0.0</td>\n",
       "      <td>NaN</td>\n",
       "      <td>NaN</td>\n",
       "      <td>44.000000</td>\n",
       "    </tr>\n",
       "    <tr>\n",
       "      <th>25%</th>\n",
       "      <td>19.500000</td>\n",
       "      <td>3.000000</td>\n",
       "      <td>1280.500000</td>\n",
       "      <td>33.000000</td>\n",
       "      <td>0.000000</td>\n",
       "      <td>0.000000</td>\n",
       "      <td>0.000000</td>\n",
       "      <td>0.000000</td>\n",
       "      <td>0.0</td>\n",
       "      <td>1.000000</td>\n",
       "      <td>...</td>\n",
       "      <td>0.000000</td>\n",
       "      <td>1.0</td>\n",
       "      <td>1.000000</td>\n",
       "      <td>0.000000</td>\n",
       "      <td>1.000000</td>\n",
       "      <td>1.429995e+09</td>\n",
       "      <td>0.0</td>\n",
       "      <td>NaN</td>\n",
       "      <td>NaN</td>\n",
       "      <td>630.000000</td>\n",
       "    </tr>\n",
       "    <tr>\n",
       "      <th>50%</th>\n",
       "      <td>22.000000</td>\n",
       "      <td>5.000000</td>\n",
       "      <td>2679.000000</td>\n",
       "      <td>81.000000</td>\n",
       "      <td>0.000000</td>\n",
       "      <td>129.000000</td>\n",
       "      <td>0.000000</td>\n",
       "      <td>0.000000</td>\n",
       "      <td>0.0</td>\n",
       "      <td>1.000000</td>\n",
       "      <td>...</td>\n",
       "      <td>0.000000</td>\n",
       "      <td>1.0</td>\n",
       "      <td>1.000000</td>\n",
       "      <td>0.000000</td>\n",
       "      <td>1.000000</td>\n",
       "      <td>1.430046e+09</td>\n",
       "      <td>0.0</td>\n",
       "      <td>NaN</td>\n",
       "      <td>NaN</td>\n",
       "      <td>1171.000000</td>\n",
       "    </tr>\n",
       "    <tr>\n",
       "      <th>75%</th>\n",
       "      <td>23.000000</td>\n",
       "      <td>9.000000</td>\n",
       "      <td>5489.500000</td>\n",
       "      <td>172.500000</td>\n",
       "      <td>1.000000</td>\n",
       "      <td>178.500000</td>\n",
       "      <td>0.000000</td>\n",
       "      <td>0.000000</td>\n",
       "      <td>0.0</td>\n",
       "      <td>1.000000</td>\n",
       "      <td>...</td>\n",
       "      <td>1.000000</td>\n",
       "      <td>1.0</td>\n",
       "      <td>1.000000</td>\n",
       "      <td>1.000000</td>\n",
       "      <td>1.000000</td>\n",
       "      <td>1.430073e+09</td>\n",
       "      <td>0.0</td>\n",
       "      <td>NaN</td>\n",
       "      <td>NaN</td>\n",
       "      <td>1868.500000</td>\n",
       "    </tr>\n",
       "    <tr>\n",
       "      <th>max</th>\n",
       "      <td>26.000000</td>\n",
       "      <td>30.000000</td>\n",
       "      <td>51809.000000</td>\n",
       "      <td>4114.000000</td>\n",
       "      <td>36.000000</td>\n",
       "      <td>4880.000000</td>\n",
       "      <td>1.000000</td>\n",
       "      <td>1.000000</td>\n",
       "      <td>0.0</td>\n",
       "      <td>1.000000</td>\n",
       "      <td>...</td>\n",
       "      <td>1.000000</td>\n",
       "      <td>1.0</td>\n",
       "      <td>5.000000</td>\n",
       "      <td>1.000000</td>\n",
       "      <td>1.000000</td>\n",
       "      <td>1.430647e+09</td>\n",
       "      <td>0.0</td>\n",
       "      <td>NaN</td>\n",
       "      <td>NaN</td>\n",
       "      <td>3925.000000</td>\n",
       "    </tr>\n",
       "  </tbody>\n",
       "</table>\n",
       "<p>8 rows × 21 columns</p>\n",
       "</div>"
      ],
      "text/plain": [
       "             age  counts_pictures  counts_profileVisits  counts_kisses  \\\n",
       "count  91.000000        91.000000             91.000000      91.000000   \n",
       "mean   21.593407         6.978022           4939.978022     220.879121   \n",
       "std     2.102792         6.406556           7320.794080     520.092061   \n",
       "min    19.000000         0.000000             22.000000       0.000000   \n",
       "25%    19.500000         3.000000           1280.500000      33.000000   \n",
       "50%    22.000000         5.000000           2679.000000      81.000000   \n",
       "75%    23.000000         9.000000           5489.500000     172.500000   \n",
       "max    26.000000        30.000000          51809.000000    4114.000000   \n",
       "\n",
       "       counts_fans     distance  isFlirtstar  isHighlighted  isInfluencer  \\\n",
       "count    91.000000    91.000000    91.000000      91.000000          91.0   \n",
       "mean      2.439560   172.730769     0.021978       0.021978           0.0   \n",
       "std       7.041478   512.295702     0.147424       0.147424           0.0   \n",
       "min       0.000000     0.000000     0.000000       0.000000           0.0   \n",
       "25%       0.000000     0.000000     0.000000       0.000000           0.0   \n",
       "50%       0.000000   129.000000     0.000000       0.000000           0.0   \n",
       "75%       1.000000   178.500000     0.000000       0.000000           0.0   \n",
       "max      36.000000  4880.000000     1.000000       1.000000           0.0   \n",
       "\n",
       "        isMobile  ...   isOnline  isVip  lang_count   verified  \\\n",
       "count  91.000000  ...  91.000000   91.0   91.000000  91.000000   \n",
       "mean    0.824176  ...   0.450549    1.0    1.263736   0.384615   \n",
       "std     0.382780  ...   0.500305    0.0    0.800488   0.489200   \n",
       "min     0.000000  ...   0.000000    1.0    1.000000   0.000000   \n",
       "25%     1.000000  ...   0.000000    1.0    1.000000   0.000000   \n",
       "50%     1.000000  ...   0.000000    1.0    1.000000   0.000000   \n",
       "75%     1.000000  ...   1.000000    1.0    1.000000   1.000000   \n",
       "max     1.000000  ...   1.000000    1.0    5.000000   1.000000   \n",
       "\n",
       "       shareProfileEnabled  lastOnlineTime  birthd  crypt  isSystemProfile  \\\n",
       "count            91.000000    9.100000e+01    91.0    0.0              0.0   \n",
       "mean              0.945055    1.429940e+09     0.0    NaN              NaN   \n",
       "std               0.229135    4.734026e+05     0.0    NaN              NaN   \n",
       "min               0.000000    1.428223e+09     0.0    NaN              NaN   \n",
       "25%               1.000000    1.429995e+09     0.0    NaN              NaN   \n",
       "50%               1.000000    1.430046e+09     0.0    NaN              NaN   \n",
       "75%               1.000000    1.430073e+09     0.0    NaN              NaN   \n",
       "max               1.000000    1.430647e+09     0.0    NaN              NaN   \n",
       "\n",
       "            index1  \n",
       "count    91.000000  \n",
       "mean   1305.043956  \n",
       "std     879.109839  \n",
       "min      44.000000  \n",
       "25%     630.000000  \n",
       "50%    1171.000000  \n",
       "75%    1868.500000  \n",
       "max    3925.000000  \n",
       "\n",
       "[8 rows x 21 columns]"
      ]
     },
     "execution_count": 17,
     "metadata": {},
     "output_type": "execute_result"
    }
   ],
   "source": [
    "VIP=cleaned[cleaned['isVip']==1]\n",
    "VIP.describe()\n"
   ]
  },
  {
   "cell_type": "markdown",
   "metadata": {},
   "source": [
    "VIP's are younger, have more pictures, have more profile visits, more kisses, more fans, shorter distance, more Flirtstars, are highlighted more, are less often New Users, speak more languages, are verified more often and have more private profiles."
   ]
  },
  {
   "cell_type": "code",
   "execution_count": 67,
   "metadata": {
    "scrolled": true
   },
   "outputs": [
    {
     "data": {
      "image/png": "[encoded data removed]",
      "text/plain": [
       "<Figure size 432x288 with 1 Axes>"
      ]
     },
     "metadata": {
      "needs_background": "light"
     },
     "output_type": "display_data"
    }
   ],
   "source": [
    "fig, ax = plt.subplots()\n",
    "\n",
    "# Add data: \"counts_kisses\" on x-axis, \"distance\" on y-axis\n",
    "\n",
    "x=cleaned[cleaned['isVip']==0]['counts_kisses']\n",
    "y=cleaned[cleaned['isVip']==0]['distance']\n",
    "ax.scatter(x,y,color='red')\n",
    "\n",
    "# Set the x-axis label to \"kisses\"\n",
    "ax.set_xlabel(\"kisses\")\n",
    "ax.set_ylabel(\"distance\")\n",
    "plt.show()\n"
   ]
  },
  {
   "cell_type": "code",
   "execution_count": 28,
   "metadata": {},
   "outputs": [
    {
     "name": "stdout",
     "output_type": "stream",
     "text": [
      "59\n",
      "0.3516483516483517\n"
     ]
    },
    {
     "data": {
      "text/plain": [
       "41"
      ]
     },
     "execution_count": 28,
     "metadata": {},
     "output_type": "execute_result"
    }
   ],
   "source": [
    "Q1=VIP.quantile(.25,axis=0)\n",
    "Q3=VIP.quantile(.75,axis=0)\n",
    "IQR=Q3-Q1\n",
    "Lower_Limit=(Q1-1.5*IQR)\n",
    "Upper_Limit=(Q3 + 1.5*IQR)\n",
    "Outliers=VIP[(((VIP<Lower_Limit) | ((VIP) >Upper_Limit))).any(axis=1)]\n",
    "print(len(Outliers))\n",
    "print((len(VIP)-len(Outliers))/len(VIP))\n",
    "len(VIP[VIP['isOnline']==1])"
   ]
  },
  {
   "cell_type": "markdown",
   "metadata": {},
   "source": [
    "Given that a new user joins, what is the probability that they will become a VIP?"
   ]
  },
  {
   "cell_type": "code",
   "execution_count": 26,
   "metadata": {},
   "outputs": [
    {
     "data": {
      "text/plain": [
       "0.022795591182364728"
      ]
     },
     "execution_count": 26,
     "metadata": {},
     "output_type": "execute_result"
    }
   ],
   "source": [
    "91/3992"
   ]
  },
  {
   "cell_type": "markdown",
   "metadata": {},
   "source": [
    "There are 56 outliers in the VIP dataset. The age and picture distribution can be seen below."
   ]
  },
  {
   "cell_type": "code",
   "execution_count": 27,
   "metadata": {},
   "outputs": [
    {
     "data": {
      "image/png": "[encoded data removed]",
      "text/plain": [
       "<Figure size 432x288 with 1 Axes>"
      ]
     },
     "metadata": {
      "needs_background": "light"
     },
     "output_type": "display_data"
    },
    {
     "data": {
      "image/png": "[encoded data removed]",
      "text/plain": [
       "<Figure size 432x288 with 1 Axes>"
      ]
     },
     "metadata": {
      "needs_background": "light"
     },
     "output_type": "display_data"
    }
   ],
   "source": [
    "#No_Outliers=VIP[~(((VIP<Lower_Limit) | ((VIP) >Upper_Limit))).any(axis=1)]\n",
    "VIP['age'].plot(kind='box')\n",
    "plt.show()\n",
    "VIP['counts_pictures'].plot(kind='box')\n",
    "plt.show()"
   ]
  },
  {
   "cell_type": "code",
   "execution_count": 25,
   "metadata": {},
   "outputs": [
    {
     "data": {
      "image/png": "[encoded data removed]",
      "text/plain": [
       "<Figure size 432x288 with 1 Axes>"
      ]
     },
     "metadata": {
      "needs_background": "light"
     },
     "output_type": "display_data"
    }
   ],
   "source": [
    "import matplotlib.pyplot as plt\n",
    "VIP=df[df['isVip']==1]\n",
    "fig,axis = plt.subplots()\n",
    "axis.boxplot(VIP['counts_kisses'])\n",
    "plt.show()"
   ]
  },
  {
   "cell_type": "markdown",
   "metadata": {},
   "source": [
    "# Non-VIP"
   ]
  },
  {
   "cell_type": "code",
   "execution_count": 36,
   "metadata": {},
   "outputs": [
    {
     "data": {
      "text/html": [
       "<div>\n",
       "<style scoped>\n",
       "    .dataframe tbody tr th:only-of-type {\n",
       "        vertical-align: middle;\n",
       "    }\n",
       "\n",
       "    .dataframe tbody tr th {\n",
       "        vertical-align: top;\n",
       "    }\n",
       "\n",
       "    .dataframe thead th {\n",
       "        text-align: right;\n",
       "    }\n",
       "</style>\n",
       "<table border=\"1\" class=\"dataframe\">\n",
       "  <thead>\n",
       "    <tr style=\"text-align: right;\">\n",
       "      <th></th>\n",
       "      <th>age</th>\n",
       "      <th>counts_pictures</th>\n",
       "      <th>counts_profileVisits</th>\n",
       "      <th>counts_kisses</th>\n",
       "      <th>counts_fans</th>\n",
       "      <th>distance</th>\n",
       "      <th>isFlirtstar</th>\n",
       "      <th>isHighlighted</th>\n",
       "      <th>isInfluencer</th>\n",
       "      <th>isMobile</th>\n",
       "      <th>...</th>\n",
       "      <th>isOnline</th>\n",
       "      <th>isVip</th>\n",
       "      <th>lang_count</th>\n",
       "      <th>verified</th>\n",
       "      <th>shareProfileEnabled</th>\n",
       "      <th>lastOnlineTime</th>\n",
       "      <th>birthd</th>\n",
       "      <th>crypt</th>\n",
       "      <th>isSystemProfile</th>\n",
       "      <th>index1</th>\n",
       "    </tr>\n",
       "  </thead>\n",
       "  <tbody>\n",
       "    <tr>\n",
       "      <th>count</th>\n",
       "      <td>3901.000000</td>\n",
       "      <td>3901.000000</td>\n",
       "      <td>3901.000000</td>\n",
       "      <td>3901.000000</td>\n",
       "      <td>3901.000000</td>\n",
       "      <td>3855.000000</td>\n",
       "      <td>3901.000000</td>\n",
       "      <td>3901.000000</td>\n",
       "      <td>3901.0</td>\n",
       "      <td>3901.000000</td>\n",
       "      <td>...</td>\n",
       "      <td>3901.000000</td>\n",
       "      <td>3901.0</td>\n",
       "      <td>3901.000000</td>\n",
       "      <td>3901.000000</td>\n",
       "      <td>3901.000000</td>\n",
       "      <td>3.900000e+03</td>\n",
       "      <td>3901.000000</td>\n",
       "      <td>46.0</td>\n",
       "      <td>2.0</td>\n",
       "      <td>3901.000000</td>\n",
       "    </tr>\n",
       "    <tr>\n",
       "      <th>mean</th>\n",
       "      <td>22.000769</td>\n",
       "      <td>4.735452</td>\n",
       "      <td>3676.669316</td>\n",
       "      <td>155.100231</td>\n",
       "      <td>2.332992</td>\n",
       "      <td>208.044384</td>\n",
       "      <td>0.011536</td>\n",
       "      <td>0.011536</td>\n",
       "      <td>0.0</td>\n",
       "      <td>0.744168</td>\n",
       "      <td>...</td>\n",
       "      <td>0.588567</td>\n",
       "      <td>0.0</td>\n",
       "      <td>1.106127</td>\n",
       "      <td>0.216098</td>\n",
       "      <td>0.961036</td>\n",
       "      <td>1.428897e+09</td>\n",
       "      <td>0.003845</td>\n",
       "      <td>1.0</td>\n",
       "      <td>1.0</td>\n",
       "      <td>2011.606511</td>\n",
       "    </tr>\n",
       "    <tr>\n",
       "      <th>std</th>\n",
       "      <td>1.955334</td>\n",
       "      <td>4.351156</td>\n",
       "      <td>6831.884617</td>\n",
       "      <td>373.640170</td>\n",
       "      <td>12.331307</td>\n",
       "      <td>182.768339</td>\n",
       "      <td>0.106796</td>\n",
       "      <td>0.106796</td>\n",
       "      <td>0.0</td>\n",
       "      <td>0.436384</td>\n",
       "      <td>...</td>\n",
       "      <td>0.492156</td>\n",
       "      <td>0.0</td>\n",
       "      <td>0.576031</td>\n",
       "      <td>0.411635</td>\n",
       "      <td>0.193535</td>\n",
       "      <td>8.140588e+05</td>\n",
       "      <td>0.061898</td>\n",
       "      <td>0.0</td>\n",
       "      <td>0.0</td>\n",
       "      <td>1153.306006</td>\n",
       "    </tr>\n",
       "    <tr>\n",
       "      <th>min</th>\n",
       "      <td>18.000000</td>\n",
       "      <td>0.000000</td>\n",
       "      <td>0.000000</td>\n",
       "      <td>0.000000</td>\n",
       "      <td>0.000000</td>\n",
       "      <td>0.000000</td>\n",
       "      <td>0.000000</td>\n",
       "      <td>0.000000</td>\n",
       "      <td>0.0</td>\n",
       "      <td>0.000000</td>\n",
       "      <td>...</td>\n",
       "      <td>0.000000</td>\n",
       "      <td>0.0</td>\n",
       "      <td>0.000000</td>\n",
       "      <td>0.000000</td>\n",
       "      <td>0.000000</td>\n",
       "      <td>1.426592e+09</td>\n",
       "      <td>0.000000</td>\n",
       "      <td>1.0</td>\n",
       "      <td>1.0</td>\n",
       "      <td>0.000000</td>\n",
       "    </tr>\n",
       "    <tr>\n",
       "      <th>25%</th>\n",
       "      <td>20.000000</td>\n",
       "      <td>2.000000</td>\n",
       "      <td>375.000000</td>\n",
       "      <td>11.000000</td>\n",
       "      <td>0.000000</td>\n",
       "      <td>86.150000</td>\n",
       "      <td>0.000000</td>\n",
       "      <td>0.000000</td>\n",
       "      <td>0.0</td>\n",
       "      <td>0.000000</td>\n",
       "      <td>...</td>\n",
       "      <td>0.000000</td>\n",
       "      <td>0.0</td>\n",
       "      <td>1.000000</td>\n",
       "      <td>0.000000</td>\n",
       "      <td>1.000000</td>\n",
       "      <td>1.428332e+09</td>\n",
       "      <td>0.000000</td>\n",
       "      <td>1.0</td>\n",
       "      <td>1.0</td>\n",
       "      <td>1013.000000</td>\n",
       "    </tr>\n",
       "    <tr>\n",
       "      <th>50%</th>\n",
       "      <td>22.000000</td>\n",
       "      <td>4.000000</td>\n",
       "      <td>1190.000000</td>\n",
       "      <td>43.000000</td>\n",
       "      <td>0.000000</td>\n",
       "      <td>173.000000</td>\n",
       "      <td>0.000000</td>\n",
       "      <td>0.000000</td>\n",
       "      <td>0.0</td>\n",
       "      <td>1.000000</td>\n",
       "      <td>...</td>\n",
       "      <td>1.000000</td>\n",
       "      <td>0.0</td>\n",
       "      <td>1.000000</td>\n",
       "      <td>0.000000</td>\n",
       "      <td>1.000000</td>\n",
       "      <td>1.428385e+09</td>\n",
       "      <td>0.000000</td>\n",
       "      <td>1.0</td>\n",
       "      <td>1.0</td>\n",
       "      <td>2023.000000</td>\n",
       "    </tr>\n",
       "    <tr>\n",
       "      <th>75%</th>\n",
       "      <td>24.000000</td>\n",
       "      <td>6.000000</td>\n",
       "      <td>4033.000000</td>\n",
       "      <td>140.000000</td>\n",
       "      <td>0.000000</td>\n",
       "      <td>319.000000</td>\n",
       "      <td>0.000000</td>\n",
       "      <td>0.000000</td>\n",
       "      <td>0.0</td>\n",
       "      <td>1.000000</td>\n",
       "      <td>...</td>\n",
       "      <td>1.000000</td>\n",
       "      <td>0.0</td>\n",
       "      <td>1.000000</td>\n",
       "      <td>0.000000</td>\n",
       "      <td>1.000000</td>\n",
       "      <td>1.429975e+09</td>\n",
       "      <td>0.000000</td>\n",
       "      <td>1.0</td>\n",
       "      <td>1.0</td>\n",
       "      <td>3011.000000</td>\n",
       "    </tr>\n",
       "    <tr>\n",
       "      <th>max</th>\n",
       "      <td>28.000000</td>\n",
       "      <td>30.000000</td>\n",
       "      <td>164425.000000</td>\n",
       "      <td>9288.000000</td>\n",
       "      <td>241.000000</td>\n",
       "      <td>6918.000000</td>\n",
       "      <td>1.000000</td>\n",
       "      <td>1.000000</td>\n",
       "      <td>0.0</td>\n",
       "      <td>1.000000</td>\n",
       "      <td>...</td>\n",
       "      <td>1.000000</td>\n",
       "      <td>0.0</td>\n",
       "      <td>9.000000</td>\n",
       "      <td>1.000000</td>\n",
       "      <td>1.000000</td>\n",
       "      <td>1.430647e+09</td>\n",
       "      <td>1.000000</td>\n",
       "      <td>1.0</td>\n",
       "      <td>1.0</td>\n",
       "      <td>3991.000000</td>\n",
       "    </tr>\n",
       "  </tbody>\n",
       "</table>\n",
       "<p>8 rows × 21 columns</p>\n",
       "</div>"
      ],
      "text/plain": [
       "               age  counts_pictures  counts_profileVisits  counts_kisses  \\\n",
       "count  3901.000000      3901.000000           3901.000000    3901.000000   \n",
       "mean     22.000769         4.735452           3676.669316     155.100231   \n",
       "std       1.955334         4.351156           6831.884617     373.640170   \n",
       "min      18.000000         0.000000              0.000000       0.000000   \n",
       "25%      20.000000         2.000000            375.000000      11.000000   \n",
       "50%      22.000000         4.000000           1190.000000      43.000000   \n",
       "75%      24.000000         6.000000           4033.000000     140.000000   \n",
       "max      28.000000        30.000000         164425.000000    9288.000000   \n",
       "\n",
       "       counts_fans     distance  isFlirtstar  isHighlighted  isInfluencer  \\\n",
       "count  3901.000000  3855.000000  3901.000000    3901.000000        3901.0   \n",
       "mean      2.332992   208.044384     0.011536       0.011536           0.0   \n",
       "std      12.331307   182.768339     0.106796       0.106796           0.0   \n",
       "min       0.000000     0.000000     0.000000       0.000000           0.0   \n",
       "25%       0.000000    86.150000     0.000000       0.000000           0.0   \n",
       "50%       0.000000   173.000000     0.000000       0.000000           0.0   \n",
       "75%       0.000000   319.000000     0.000000       0.000000           0.0   \n",
       "max     241.000000  6918.000000     1.000000       1.000000           0.0   \n",
       "\n",
       "          isMobile  ...     isOnline   isVip   lang_count     verified  \\\n",
       "count  3901.000000  ...  3901.000000  3901.0  3901.000000  3901.000000   \n",
       "mean      0.744168  ...     0.588567     0.0     1.106127     0.216098   \n",
       "std       0.436384  ...     0.492156     0.0     0.576031     0.411635   \n",
       "min       0.000000  ...     0.000000     0.0     0.000000     0.000000   \n",
       "25%       0.000000  ...     0.000000     0.0     1.000000     0.000000   \n",
       "50%       1.000000  ...     1.000000     0.0     1.000000     0.000000   \n",
       "75%       1.000000  ...     1.000000     0.0     1.000000     0.000000   \n",
       "max       1.000000  ...     1.000000     0.0     9.000000     1.000000   \n",
       "\n",
       "       shareProfileEnabled  lastOnlineTime       birthd  crypt  \\\n",
       "count          3901.000000    3.900000e+03  3901.000000   46.0   \n",
       "mean              0.961036    1.428897e+09     0.003845    1.0   \n",
       "std               0.193535    8.140588e+05     0.061898    0.0   \n",
       "min               0.000000    1.426592e+09     0.000000    1.0   \n",
       "25%               1.000000    1.428332e+09     0.000000    1.0   \n",
       "50%               1.000000    1.428385e+09     0.000000    1.0   \n",
       "75%               1.000000    1.429975e+09     0.000000    1.0   \n",
       "max               1.000000    1.430647e+09     1.000000    1.0   \n",
       "\n",
       "       isSystemProfile       index1  \n",
       "count              2.0  3901.000000  \n",
       "mean               1.0  2011.606511  \n",
       "std                0.0  1153.306006  \n",
       "min                1.0     0.000000  \n",
       "25%                1.0  1013.000000  \n",
       "50%                1.0  2023.000000  \n",
       "75%                1.0  3011.000000  \n",
       "max                1.0  3991.000000  \n",
       "\n",
       "[8 rows x 21 columns]"
      ]
     },
     "execution_count": 36,
     "metadata": {},
     "output_type": "execute_result"
    }
   ],
   "source": [
    "cleaned[cleaned['isVip']==0].describe()"
   ]
  },
  {
   "cell_type": "markdown",
   "metadata": {},
   "source": [
    "If you are a VIP your page is Highlighted; thus getting more profile visits, likes, and fans"
   ]
  },
  {
   "cell_type": "markdown",
   "metadata": {},
   "source": [
    " # Correlation"
   ]
  },
  {
   "cell_type": "code",
   "execution_count": 69,
   "metadata": {
    "scrolled": false
   },
   "outputs": [
    {
     "data": {
      "image/png": "[encoded data removed]",
      "text/plain": [
       "<Figure size 1368x1080 with 2 Axes>"
      ]
     },
     "metadata": {
      "needs_background": "light"
     },
     "output_type": "display_data"
    }
   ],
   "source": [
    "f = plt.figure(figsize=(19, 15))\n",
    "plt.matshow(cleaned.corr(), fignum=f.number)\n",
    "plt.xticks(range(cleaned.select_dtypes(['number']).shape[1]), cleaned.select_dtypes(['number']).columns, fontsize=14, rotation=45)\n",
    "plt.yticks(range(cleaned.select_dtypes(['number']).shape[1]), cleaned.select_dtypes(['number']).columns, fontsize=14)\n",
    "cb = plt.colorbar()\n",
    "cb.ax.tick_params(labelsize=2)\n",
    "plt.title('Correlation Matrix', fontsize=16);\n",
    "plt.show()"
   ]
  },
  {
   "cell_type": "markdown",
   "metadata": {},
   "source": [
    "# Insight"
   ]
  },
  {
   "cell_type": "markdown",
   "metadata": {},
   "source": [
    "# A simulation of size 3,992 using the empirical distribution shows VIPs get more kisses"
   ]
  },
  {
   "cell_type": "code",
   "execution_count": 30,
   "metadata": {
    "scrolled": false
   },
   "outputs": [
    {
     "data": {
      "image/png": "[encoded data removed]",
      "text/plain": [
       "<Figure size 432x288 with 1 Axes>"
      ]
     },
     "metadata": {
      "needs_background": "light"
     },
     "output_type": "display_data"
    },
    {
     "data": {
      "text/html": [
       "<div>\n",
       "<style scoped>\n",
       "    .dataframe tbody tr th:only-of-type {\n",
       "        vertical-align: middle;\n",
       "    }\n",
       "\n",
       "    .dataframe tbody tr th {\n",
       "        vertical-align: top;\n",
       "    }\n",
       "\n",
       "    .dataframe thead th {\n",
       "        text-align: right;\n",
       "    }\n",
       "</style>\n",
       "<table border=\"1\" class=\"dataframe\">\n",
       "  <thead>\n",
       "    <tr style=\"text-align: right;\">\n",
       "      <th></th>\n",
       "      <th>0</th>\n",
       "    </tr>\n",
       "  </thead>\n",
       "  <tbody>\n",
       "    <tr>\n",
       "      <th>count</th>\n",
       "      <td>3992.000000</td>\n",
       "    </tr>\n",
       "    <tr>\n",
       "      <th>mean</th>\n",
       "      <td>222.319389</td>\n",
       "    </tr>\n",
       "    <tr>\n",
       "      <th>std</th>\n",
       "      <td>525.858007</td>\n",
       "    </tr>\n",
       "    <tr>\n",
       "      <th>min</th>\n",
       "      <td>0.000000</td>\n",
       "    </tr>\n",
       "    <tr>\n",
       "      <th>25%</th>\n",
       "      <td>33.000000</td>\n",
       "    </tr>\n",
       "    <tr>\n",
       "      <th>50%</th>\n",
       "      <td>79.000000</td>\n",
       "    </tr>\n",
       "    <tr>\n",
       "      <th>75%</th>\n",
       "      <td>172.250000</td>\n",
       "    </tr>\n",
       "    <tr>\n",
       "      <th>max</th>\n",
       "      <td>4114.000000</td>\n",
       "    </tr>\n",
       "  </tbody>\n",
       "</table>\n",
       "</div>"
      ],
      "text/plain": [
       "                 0\n",
       "count  3992.000000\n",
       "mean    222.319389\n",
       "std     525.858007\n",
       "min       0.000000\n",
       "25%      33.000000\n",
       "50%      79.000000\n",
       "75%     172.250000\n",
       "max    4114.000000"
      ]
     },
     "execution_count": 30,
     "metadata": {},
     "output_type": "execute_result"
    }
   ],
   "source": [
    "import numpy as np\n",
    "\n",
    "# Set the seed\n",
    "np.random.seed(125)\n",
    "\n",
    "empty=[]\n",
    "kisses=np.array(cleaned[cleaned['isVip']==1]['counts_kisses'])\n",
    "for i in range(3992):\n",
    "    empty.append(kisses[int(np.random.rand()*len(kisses))])\n",
    "fig,axis = plt.subplots()\n",
    "axis.boxplot(empty)\n",
    "plt.show()\n",
    "pd.DataFrame(empty).describe()"
   ]
  },
  {
   "cell_type": "markdown",
   "metadata": {},
   "source": [
    "# VIPs are highlighted more often resulting in more profile views"
   ]
  },
  {
   "cell_type": "code",
   "execution_count": 51,
   "metadata": {},
   "outputs": [
    {
     "data": {
      "image/png": "[encoded data removed]",
      "text/plain": [
       "<Figure size 432x288 with 1 Axes>"
      ]
     },
     "metadata": {
      "needs_background": "light"
     },
     "output_type": "display_data"
    },
    {
     "data": {
      "text/html": [
       "<div>\n",
       "<style scoped>\n",
       "    .dataframe tbody tr th:only-of-type {\n",
       "        vertical-align: middle;\n",
       "    }\n",
       "\n",
       "    .dataframe tbody tr th {\n",
       "        vertical-align: top;\n",
       "    }\n",
       "\n",
       "    .dataframe thead th {\n",
       "        text-align: right;\n",
       "    }\n",
       "</style>\n",
       "<table border=\"1\" class=\"dataframe\">\n",
       "  <thead>\n",
       "    <tr style=\"text-align: right;\">\n",
       "      <th></th>\n",
       "      <th>0</th>\n",
       "    </tr>\n",
       "  </thead>\n",
       "  <tbody>\n",
       "    <tr>\n",
       "      <th>count</th>\n",
       "      <td>3992.000000</td>\n",
       "    </tr>\n",
       "    <tr>\n",
       "      <th>mean</th>\n",
       "      <td>0.018036</td>\n",
       "    </tr>\n",
       "    <tr>\n",
       "      <th>std</th>\n",
       "      <td>0.133098</td>\n",
       "    </tr>\n",
       "    <tr>\n",
       "      <th>min</th>\n",
       "      <td>0.000000</td>\n",
       "    </tr>\n",
       "    <tr>\n",
       "      <th>25%</th>\n",
       "      <td>0.000000</td>\n",
       "    </tr>\n",
       "    <tr>\n",
       "      <th>50%</th>\n",
       "      <td>0.000000</td>\n",
       "    </tr>\n",
       "    <tr>\n",
       "      <th>75%</th>\n",
       "      <td>0.000000</td>\n",
       "    </tr>\n",
       "    <tr>\n",
       "      <th>max</th>\n",
       "      <td>1.000000</td>\n",
       "    </tr>\n",
       "  </tbody>\n",
       "</table>\n",
       "</div>"
      ],
      "text/plain": [
       "                 0\n",
       "count  3992.000000\n",
       "mean      0.018036\n",
       "std       0.133098\n",
       "min       0.000000\n",
       "25%       0.000000\n",
       "50%       0.000000\n",
       "75%       0.000000\n",
       "max       1.000000"
      ]
     },
     "execution_count": 51,
     "metadata": {},
     "output_type": "execute_result"
    }
   ],
   "source": [
    "empty=[]\n",
    "highlighted=np.array(cleaned[cleaned['isVip']==1]['isHighlighted'])\n",
    "for i in range(3992):\n",
    "    empty.append(highlighted[int(np.random.rand()*len(highlighted))])\n",
    "fig,axis = plt.subplots()\n",
    "axis.boxplot(empty)\n",
    "plt.show()\n",
    "pd.DataFrame(empty).describe()\n"
   ]
  },
  {
   "cell_type": "code",
   "execution_count": 52,
   "metadata": {},
   "outputs": [
    {
     "data": {
      "text/plain": [
       "count       47.000000\n",
       "mean      4873.468085\n",
       "std       7682.757193\n",
       "min         18.000000\n",
       "25%        516.500000\n",
       "50%       2071.000000\n",
       "75%       5593.500000\n",
       "max      44883.000000\n",
       "Name: counts_profileVisits, dtype: float64"
      ]
     },
     "execution_count": 52,
     "metadata": {},
     "output_type": "execute_result"
    }
   ],
   "source": [
    "cleaned[cleaned['isHighlighted']==1]['counts_profileVisits'].describe()"
   ]
  },
  {
   "cell_type": "code",
   "execution_count": 70,
   "metadata": {},
   "outputs": [
    {
     "data": {
      "text/plain": [
       "0.02256020278833967"
      ]
     },
     "execution_count": 70,
     "metadata": {},
     "output_type": "execute_result"
    }
   ],
   "source": [
    "profile=cleaned[cleaned['isHighlighted']==1]\n",
    "profile['isVip']\n",
    "2/47 #4% of Highlighted members are VIPs \n",
    "89/3945 #2.25% of Non-Highlighted members are VIPs"
   ]
  },
  {
   "cell_type": "code",
   "execution_count": 56,
   "metadata": {},
   "outputs": [
    {
     "data": {
      "text/plain": [
       "count      3945.000000\n",
       "mean       3691.551838\n",
       "std        6834.327628\n",
       "min           0.000000\n",
       "25%         383.000000\n",
       "50%        1220.000000\n",
       "75%        4033.000000\n",
       "max      164425.000000\n",
       "Name: counts_profileVisits, dtype: float64"
      ]
     },
     "execution_count": 56,
     "metadata": {},
     "output_type": "execute_result"
    }
   ],
   "source": [
    "cleaned[cleaned['isHighlighted']==0]['counts_profileVisits'].describe()\n"
   ]
  },
  {
   "cell_type": "markdown",
   "metadata": {},
   "source": [
    "# New entrants"
   ]
  },
  {
   "cell_type": "markdown",
   "metadata": {},
   "source": [
    "How many consecutive new users must purchase VIP to achieve desired 25% proportion and how many future users is this equivalent to?"
   ]
  },
  {
   "cell_type": "code",
   "execution_count": 37,
   "metadata": {},
   "outputs": [],
   "source": [
    "#Characteristics of a VIP\n",
    "#Age        #Pictures   \n",
    "#21.593407\t6.978022\t4939.978022\t220.879121\t2.439560\t172.730769\t0.021978\t0.021978\t0.0\t0.824176\t0.021978\t0.450549\t1.0\t1.263736\t0.384615\t0.945055\t1.429940e+09\t0.0\tNaN\tNaN\n"
   ]
  },
  {
   "cell_type": "markdown",
   "metadata": {},
   "source": [
    "New users that have age below the 45th percentile, count of pictures above the 80th percentile, profile visits about the 79th percentile, and kisses above the 83rd percentile are expected to become VIP users"
   ]
  },
  {
   "cell_type": "code",
   "execution_count": 57,
   "metadata": {},
   "outputs": [
    {
     "data": {
      "text/plain": [
       "220.52999999999975"
      ]
     },
     "execution_count": 57,
     "metadata": {},
     "output_type": "execute_result"
    }
   ],
   "source": [
    "cleaned['age'].quantile(.45)\n",
    "cleaned['counts_pictures'].quantile(.80)\n",
    "cleaned['counts_profileVisits'].quantile(.78605)\n",
    "cleaned['counts_kisses'].quantile(.83)\n"
   ]
  },
  {
   "cell_type": "markdown",
   "metadata": {},
   "source": [
    ".45*(1-0.80)*(1-.78605)*(1-0.83)=0.327% #this is the VIP acquisition rate among current members according to above metric"
   ]
  },
  {
   "cell_type": "markdown",
   "metadata": {},
   "source": [
    "(91+x)/(3992+x)=.25 --> x=1210 new users --> 1210/(.45(1-0.80)(1-.78605)(1-0.83) = 369642.287 future users"
   ]
  },
  {
   "cell_type": "code",
   "execution_count": 19,
   "metadata": {},
   "outputs": [
    {
     "data": {
      "text/plain": [
       "count    953.000000\n",
       "mean       0.002099\n",
       "std        0.045787\n",
       "min        0.000000\n",
       "25%        0.000000\n",
       "50%        0.000000\n",
       "75%        0.000000\n",
       "max        1.000000\n",
       "Name: isVip, dtype: float64"
      ]
     },
     "execution_count": 19,
     "metadata": {},
     "output_type": "execute_result"
    }
   ],
   "source": [
    "cleaned[cleaned['isNew']==1]['isVip'].describe()"
   ]
  },
  {
   "cell_type": "markdown",
   "metadata": {},
   "source": [
    "The VIP purchase rate can get as low as 0.21% with new users."
   ]
  }
 ],
 "metadata": {
  "kernelspec": {
   "display_name": "Python 3",
   "language": "python",
   "name": "python3"
  },
  "language_info": {
   "codemirror_mode": {
    "name": "ipython",
    "version": 3
   },
   "file_extension": ".py",
   "mimetype": "text/x-python",
   "name": "python",
   "nbconvert_exporter": "python",
   "pygments_lexer": "ipython3",
   "version": "3.8.5"
  }
 },
 "nbformat": 4,
 "nbformat_minor": 4
}
